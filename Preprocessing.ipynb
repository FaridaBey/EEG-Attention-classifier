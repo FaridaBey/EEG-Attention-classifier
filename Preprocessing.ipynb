{
 "cells": [
  {
   "cell_type": "markdown",
   "id": "bf3499de",
   "metadata": {},
   "source": [
    "# Imports"
   ]
  },
  {
   "cell_type": "code",
   "execution_count": 1,
   "id": "c4fc88c5",
   "metadata": {},
   "outputs": [],
   "source": [
    "import numpy as np\n",
    "from scipy.io import loadmat"
   ]
  },
  {
   "cell_type": "markdown",
   "id": "024c1e2f",
   "metadata": {},
   "source": [
    "# TESTING .mat file"
   ]
  },
  {
   "cell_type": "markdown",
   "id": "d112bade",
   "metadata": {},
   "source": [
    "Load test"
   ]
  },
  {
   "cell_type": "code",
   "execution_count": 22,
   "id": "293a52e3",
   "metadata": {},
   "outputs": [],
   "source": [
    "data = loadmat('/Users/faridabey/Downloads/Project/Data/test_data_1.mat')"
   ]
  },
  {
   "cell_type": "markdown",
   "id": "9c554238",
   "metadata": {},
   "source": [
    " Show the data test"
   ]
  },
  {
   "cell_type": "code",
   "execution_count": 23,
   "id": "bbee77ff",
   "metadata": {},
   "outputs": [
    {
     "name": "stdout",
     "output_type": "stream",
     "text": [
      "\n",
      "--- channels ---\n",
      "Type: <class 'numpy.ndarray'>\n",
      "Shape: (7,)\n",
      "First 5 elements: ['F3' 'F4' 'Fz' 'C3' 'C4']\n",
      "\n",
      "--- fs ---\n",
      "Type: <class 'numpy.ndarray'>\n",
      "Shape: (1, 1)\n",
      "First 5 rows:\n",
      " [[128]]\n",
      "\n",
      "--- data ---\n",
      "Type: <class 'numpy.ndarray'>\n",
      "Shape: (72, 1920, 7)\n",
      "First 5 slices along axis 0:\n",
      " [[[ 2.62556137e+01  1.41887774e+01  9.45011723e-01 ...  9.79682229e+00\n",
      "    1.17182649e+01  1.25022475e+01]\n",
      "  [ 2.52442595e+01  1.10123061e+01  1.53914002e+00 ...  8.27067484e+00\n",
      "    1.11155044e+01  9.03529283e+00]\n",
      "  [ 2.27087506e+01  8.59186909e+00 -5.62343541e-01 ...  4.76693718e+00\n",
      "    1.02841981e+01  2.91529586e+00]\n",
      "  ...\n",
      "  [-2.99960548e+01 -9.43917950e+00 -2.23204992e+01 ... -3.71880244e+01\n",
      "   -8.25119013e+00 -2.74702378e+01]\n",
      "  [-2.12758753e+01 -7.90862040e+00 -2.11898565e+01 ... -3.17035226e+01\n",
      "   -4.86575952e+00 -2.55897797e+01]\n",
      "  [-1.76600922e+01 -1.14092484e+01 -2.36869177e+01 ... -2.96442702e+01\n",
      "   -5.87197802e+00 -2.67655348e+01]]\n",
      "\n",
      " [[-2.04636916e+01 -1.11005979e+01 -2.45174062e+01 ... -3.31772291e+01\n",
      "   -9.77144085e+00 -2.88124449e+01]\n",
      "  [-2.00327066e+01 -6.76881018e+00 -1.70968628e+01 ... -3.13571138e+01\n",
      "   -2.27727085e+00 -2.51793602e+01]\n",
      "  [-1.79931689e+01 -5.31875282e+00 -1.33135244e+01 ... -2.38670644e+01\n",
      "    6.58746563e+00 -2.17552754e+01]\n",
      "  ...\n",
      "  [ 1.20813107e+01 -7.16039560e+00 -1.65579402e+01 ...  1.44402351e+01\n",
      "    1.37774321e+00 -6.30864811e+00]\n",
      "  [ 1.58087861e+01 -3.64299221e+00 -1.45662809e+01 ...  1.77695641e+01\n",
      "    3.55716025e+00  2.62536955e+00]\n",
      "  [ 1.82332936e+01 -1.99840304e+00 -1.93059466e+01 ...  1.84713943e+01\n",
      "    5.47792958e+00  8.71606799e+00]]\n",
      "\n",
      " [[ 1.02548257e+01 -6.68450412e+00 -2.09073988e+01 ...  8.90421028e+00\n",
      "    9.12263664e-01  4.41347415e+00]\n",
      "  [ 8.97424656e+00 -5.49483603e+00 -1.42553182e+01 ...  6.89258803e+00\n",
      "   -2.24106304e+00  4.63864401e+00]\n",
      "  [ 1.71043933e+01  2.56366007e-02 -9.85879688e+00 ...  1.84586981e+01\n",
      "    2.53617481e+00  8.67212283e+00]\n",
      "  ...\n",
      "  [-3.19902719e+01 -5.49883052e+00  3.58742331e+00 ... -1.31488440e+01\n",
      "   -1.63592991e+00  5.91692573e-01]\n",
      "  [-3.20875665e+01 -6.15615364e+00  3.00995659e+00 ... -1.25272584e+01\n",
      "   -4.24971635e+00 -4.30287481e+00]\n",
      "  [-2.90351159e+01 -3.48051143e+00  5.46733664e+00 ... -8.43958615e+00\n",
      "   -6.22862260e+00 -6.76109942e+00]]\n",
      "\n",
      " [[-2.06137794e+01  3.83358097e+00  1.08891258e+01 ... -3.29784254e-01\n",
      "    2.96149456e-02 -9.71072995e-01]\n",
      "  [-1.29010223e+01  9.98319077e+00  1.20447277e+01 ...  7.06275893e+00\n",
      "    1.03826333e+01  2.73053579e+00]\n",
      "  [-1.09612189e+01  9.50270496e+00  1.18897640e+01 ...  9.15660034e+00\n",
      "    1.12046256e+01  6.93764461e-01]\n",
      "  ...\n",
      "  [ 3.21058909e+01  1.94457358e+01 -4.44042876e+00 ...  4.64788121e+00\n",
      "    1.31966015e+00  3.56876268e+00]\n",
      "  [ 3.68606518e+01  1.95135810e+01 -5.29748006e+00 ...  7.95241256e+00\n",
      "   -4.09301077e+00  2.03695072e+00]\n",
      "  [ 4.51416786e+01  1.92911167e+01 -3.28417636e+00 ...  1.46622797e+01\n",
      "   -3.36479961e+00  2.71164698e+00]]\n",
      "\n",
      " [[ 3.47378791e+01  8.88620394e+00 -8.72116042e+00 ...  6.69063875e+00\n",
      "   -8.04500281e+00 -5.13130088e+00]\n",
      "  [ 1.70148037e+01 -1.94536105e+00 -1.91103725e+01 ... -9.25908582e+00\n",
      "   -1.88489381e+01 -1.43484796e+01]\n",
      "  [ 2.17100444e+01  2.87649806e+00 -1.97392372e+01 ... -5.82586760e+00\n",
      "   -1.57953073e+01 -1.21302343e+01]\n",
      "  ...\n",
      "  [ 8.55620162e+00 -8.27747155e+00  1.14326897e+01 ...  8.62400047e-01\n",
      "   -7.96705450e+00 -1.92600698e+00]\n",
      "  [-5.71285965e+00 -1.56796301e+01  3.36881320e+00 ... -1.70699254e+01\n",
      "   -2.09645184e+01 -4.10339533e+00]\n",
      "  [-8.52939808e+00 -1.89372229e+01 -3.69363776e+00 ... -2.08152150e+01\n",
      "   -2.18607865e+01 -1.00987546e+01]]]\n",
      "\n",
      "--- labels ---\n",
      "Type: <class 'numpy.ndarray'>\n",
      "Shape: (1, 72)\n",
      "First 5 rows:\n",
      " [[0 0 0 0 0 0 0 0 0 0 0 0 0 0 0 0 0 0 0 0 0 0 0 0 0 0 0 0 0 0 0 0 0 0 0 0\n",
      "  1 1 1 1 1 1 1 1 1 1 1 1 1 1 1 1 1 1 1 1 1 1 1 1 1 1 1 1 1 1 1 1 1 1 1 1]]\n"
     ]
    }
   ],
   "source": [
    "user_vars = {k: v for k, v in data.items() if not k.startswith('__')}\n",
    "\n",
    "for key, value in user_vars.items():\n",
    "    print(f\"\\n--- {key} ---\")\n",
    "    print(f\"Type: {type(value)}\")\n",
    "    print(\"Shape:\", getattr(value, \"shape\", \"N/A\"))\n",
    "\n",
    "    # Print scalar values or array samples\n",
    "    if isinstance(value, np.ndarray):\n",
    "        if value.ndim == 0:\n",
    "            print(\"Scalar value:\", value.item())\n",
    "        elif value.ndim == 1:\n",
    "            print(\"First 5 elements:\", value[:5])\n",
    "        elif value.ndim == 2:\n",
    "            print(\"First 5 rows:\\n\", value[:5])\n",
    "        elif value.ndim == 3:\n",
    "            print(\"First 5 slices along axis 0:\\n\", value[:5])"
   ]
  },
  {
   "cell_type": "markdown",
   "id": "6d0901fd",
   "metadata": {},
   "source": [
    "# Load Subjects"
   ]
  },
  {
   "cell_type": "markdown",
   "id": "7bfcfe84",
   "metadata": {},
   "source": [
    "## #1"
   ]
  },
  {
   "cell_type": "code",
   "execution_count": 2,
   "id": "33d8cbfe",
   "metadata": {},
   "outputs": [],
   "source": [
    "test_1 = loadmat('Data/test_data_1.mat')\n",
    "train_1 = loadmat('Data/train_data_1.mat')"
   ]
  },
  {
   "cell_type": "markdown",
   "id": "c591f30f",
   "metadata": {},
   "source": [
    "## #2"
   ]
  },
  {
   "cell_type": "code",
   "execution_count": 4,
   "id": "36022e39",
   "metadata": {},
   "outputs": [],
   "source": [
    "test_2 = loadmat('Data/train_data_2.mat')\n",
    "train_2 = loadmat('Data/train_data_2.mat')"
   ]
  },
  {
   "cell_type": "markdown",
   "id": "c1e8cddd",
   "metadata": {},
   "source": [
    "## #3"
   ]
  },
  {
   "cell_type": "code",
   "execution_count": 5,
   "id": "f2c37e1f",
   "metadata": {},
   "outputs": [],
   "source": [
    "test_3 = loadmat('Data/train_data_3.mat')\n",
    "train_3 = loadmat('Data/train_data_3.mat')"
   ]
  },
  {
   "cell_type": "markdown",
   "id": "0758f1a1",
   "metadata": {},
   "source": [
    "## #4"
   ]
  },
  {
   "cell_type": "code",
   "execution_count": 6,
   "id": "c73ffefb",
   "metadata": {},
   "outputs": [],
   "source": [
    "test_4 = loadmat('Data/train_data_4.mat')\n",
    "train_4 = loadmat('Data/train_data_4.mat')"
   ]
  },
  {
   "cell_type": "markdown",
   "id": "9d76077f",
   "metadata": {},
   "source": [
    "## #5"
   ]
  },
  {
   "cell_type": "code",
   "execution_count": 7,
   "id": "18ffac05",
   "metadata": {},
   "outputs": [],
   "source": [
    "test_5 = loadmat('Data/train_data_5.mat')\n",
    "train_5 = loadmat('Data/train_data_5.mat')"
   ]
  },
  {
   "cell_type": "markdown",
   "id": "453e13aa",
   "metadata": {},
   "source": [
    "# 1. Common Average Reference filter"
   ]
  },
  {
   "cell_type": "markdown",
   "id": "82f936f3",
   "metadata": {},
   "source": [
    "Apply Common Average Reference (CAR) filter to the (EEG) data <br>\n",
    "Input shape: (n_trials, n_samples, n_channels) <br> output shape: (n_trials, n_samples, n_channels)"
   ]
  },
  {
   "cell_type": "code",
   "execution_count": 8,
   "id": "bc34636d",
   "metadata": {},
   "outputs": [],
   "source": [
    "def apply_car_filter(data):\n",
    "    # Compute mean across channels for each trial and time sample\n",
    "    car_data = data - data.mean(axis=2, keepdims=True)\n",
    "    return car_data"
   ]
  },
  {
   "cell_type": "markdown",
   "id": "78a02a6a",
   "metadata": {},
   "source": [
    "## CAR Filter To Subjects"
   ]
  },
  {
   "cell_type": "markdown",
   "id": "d606c3ce",
   "metadata": {},
   "source": [
    "### #1"
   ]
  },
  {
   "cell_type": "code",
   "execution_count": null,
   "id": "63d9af33",
   "metadata": {},
   "outputs": [],
   "source": [
    "train_1_car = train_1\n",
    "test_1_car = test_1\n",
    "\n",
    "train_1_car['data'] = apply_car_filter(train_1['data'])\n",
    "test_1_car['data'] = apply_car_filter(test_1['data'])"
   ]
  },
  {
   "cell_type": "markdown",
   "id": "04cf1502",
   "metadata": {},
   "source": [
    "### #2"
   ]
  },
  {
   "cell_type": "code",
   "execution_count": null,
   "id": "dd440edf",
   "metadata": {},
   "outputs": [],
   "source": [
    "train_2_car = train_2\n",
    "test_2_car = test_2\n",
    "\n",
    "train_2_car['data'] = apply_car_filter(train_2['data'])\n",
    "test_2_car['data'] = apply_car_filter(test_2['data'])"
   ]
  },
  {
   "cell_type": "markdown",
   "id": "dc671ae0",
   "metadata": {},
   "source": [
    "### #3"
   ]
  },
  {
   "cell_type": "code",
   "execution_count": 16,
   "id": "3edb2fe5",
   "metadata": {},
   "outputs": [],
   "source": [
    "train_3_car = train_3\n",
    "test_3_car = test_3\n",
    "\n",
    "train_3_car['data'] = apply_car_filter(train_3['data'])\n",
    "test_3_car['data'] = apply_car_filter(test_3['data'])"
   ]
  },
  {
   "cell_type": "markdown",
   "id": "fbb9406c",
   "metadata": {},
   "source": [
    "### #4"
   ]
  },
  {
   "cell_type": "code",
   "execution_count": 17,
   "id": "6963b551",
   "metadata": {},
   "outputs": [],
   "source": [
    "train_4_car = train_4\n",
    "test_4_car = test_4\n",
    "\n",
    "train_4_car['data'] = apply_car_filter(train_4['data'])\n",
    "test_4_car['data'] = apply_car_filter(test_4['data'])"
   ]
  },
  {
   "cell_type": "markdown",
   "id": "63ebd2bd",
   "metadata": {},
   "source": [
    "### #5"
   ]
  },
  {
   "cell_type": "code",
   "execution_count": 18,
   "id": "a767670e",
   "metadata": {},
   "outputs": [],
   "source": [
    "train_5_car = train_5\n",
    "test_5_car = test_5\n",
    "\n",
    "train_5_car['data'] = apply_car_filter(train_5['data'])\n",
    "test_5_car['data'] = apply_car_filter(test_5['data'])"
   ]
  },
  {
   "cell_type": "markdown",
   "id": "fd481a78",
   "metadata": {},
   "source": [
    "# 2. For each electrode"
   ]
  },
  {
   "cell_type": "markdown",
   "id": "638ec490",
   "metadata": {},
   "source": [
    "## 2.1. For each trial of each class of attention"
   ]
  },
  {
   "cell_type": "markdown",
   "id": "f1ceed8f",
   "metadata": {},
   "source": [
    "### 2.1.1 Compute the Fourier Transform of the trial signal"
   ]
  },
  {
   "cell_type": "markdown",
   "id": "14f50146",
   "metadata": {},
   "source": [
    "### 2.1.2 Compute the power in each of the delta, theta, alpha, beta, and gamma bands as the mean of the power of the frequencies in each band"
   ]
  }
 ],
 "metadata": {
  "kernelspec": {
   "display_name": "Python 3",
   "language": "python",
   "name": "python3"
  },
  "language_info": {
   "codemirror_mode": {
    "name": "ipython",
    "version": 3
   },
   "file_extension": ".py",
   "mimetype": "text/x-python",
   "name": "python",
   "nbconvert_exporter": "python",
   "pygments_lexer": "ipython3",
   "version": "3.13.2"
  }
 },
 "nbformat": 4,
 "nbformat_minor": 5
}
