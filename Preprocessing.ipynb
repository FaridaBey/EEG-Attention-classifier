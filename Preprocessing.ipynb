{
 "cells": [
  {
   "cell_type": "markdown",
   "id": "bf3499de",
   "metadata": {},
   "source": [
    "# Imports"
   ]
  },
  {
   "cell_type": "code",
   "execution_count": 47,
   "id": "c4fc88c5",
   "metadata": {},
   "outputs": [],
   "source": [
    "import numpy as np\n",
    "from scipy.io import loadmat\n",
    "from scipy.fft import fft, fftfreq\n",
    "from sklearn.neighbors import KNeighborsClassifier\n",
    "from sklearn.metrics import accuracy_score\n",
    "import math\n",
    "from statistics import mean"
   ]
  },
  {
   "cell_type": "markdown",
   "id": "024c1e2f",
   "metadata": {},
   "source": [
    "# TESTING .mat file"
   ]
  },
  {
   "cell_type": "markdown",
   "id": "d112bade",
   "metadata": {},
   "source": [
    "Load test"
   ]
  },
  {
   "cell_type": "code",
   "execution_count": 4,
   "id": "293a52e3",
   "metadata": {},
   "outputs": [],
   "source": [
    "data = loadmat('Data/train_data_1.mat')"
   ]
  },
  {
   "cell_type": "markdown",
   "id": "9c554238",
   "metadata": {},
   "source": [
    " Show the data test"
   ]
  },
  {
   "cell_type": "code",
   "execution_count": 5,
   "id": "bbee77ff",
   "metadata": {},
   "outputs": [
    {
     "name": "stdout",
     "output_type": "stream",
     "text": [
      "\n",
      "--- channels ---\n",
      "Type: <class 'numpy.ndarray'>\n",
      "Shape: (7,)\n",
      "First 5 elements: ['F3' 'F4' 'Fz' 'C3' 'C4' 'Cz' 'Pz']\n",
      "\n",
      "--- fs ---\n",
      "Type: <class 'numpy.ndarray'>\n",
      "Shape: (1, 1)\n",
      "First 5 rows:\n",
      " [[128]]\n",
      "\n",
      "--- data ---\n",
      "Type: <class 'numpy.ndarray'>\n",
      "Shape: (288, 1920, 7)\n",
      "First 5 slices along axis 0:\n",
      " [[[ 158.65887621  -40.93540601  -60.65252916 ...  259.24820604\n",
      "    -63.47535199  -32.21123372]\n",
      "  [ 155.3602066   -47.43275047  -62.33666314 ...  255.04493307\n",
      "    -66.78496375  -29.23758656]\n",
      "  [ 153.6532714   -50.26994114  -66.64789913 ...  251.72664108\n",
      "    -68.04001645  -29.6722016 ]\n",
      "  ...\n",
      "  [ -11.53179161   -8.78207989   -6.81586856 ...   -1.05662389\n",
      "    -12.1903469     0.41410004]\n",
      "  [ -14.68037102   -8.68984428   -4.82200136 ...   -0.85407445\n",
      "    -15.27431229   -1.70154376]\n",
      "  [ -17.30795586  -13.54489686   -8.04649496 ...   -7.18342427\n",
      "    -20.66120881   -3.96859021]]\n",
      "\n",
      " [[ -14.58824193  -19.21987525  -10.41882248 ...  -10.82545612\n",
      "    -25.08487698   -4.73698357]\n",
      "  [ -15.90785163  -15.70998555   -8.59341915 ...   -8.92906721\n",
      "    -24.83607686   -5.01967234]\n",
      "  [ -21.68631985  -10.98260997   -7.90057962 ...   -7.80786441\n",
      "    -21.79247623   -6.43874683]\n",
      "  ...\n",
      "  [  91.72466524   60.31804772   45.04210808 ...   59.24473286\n",
      "     63.58818042   41.3116114 ]\n",
      "  [  92.63395013   61.33148237   49.37052154 ...   56.39502972\n",
      "     65.7577071    50.11795866]\n",
      "  [  89.78550498   59.28812229   48.79478382 ...   49.62601895\n",
      "     62.64979684   47.14463019]]\n",
      "\n",
      " [[  87.54202049   55.93634709   48.51354574 ...   45.69606659\n",
      "     64.19075805   36.42799209]\n",
      "  [  90.04499414   58.00623374   56.29895087 ...   47.61912047\n",
      "     66.54083645   39.31237133]\n",
      "  [  91.72086173   59.65500791   60.15041569 ...   48.90022117\n",
      "     66.48517738   48.76577577]\n",
      "  ...\n",
      "  [  89.80703735 -122.87767559 -132.49844268 ...  199.67555047\n",
      "    -96.51426998  -16.83857743]\n",
      "  [  95.45928051 -112.8464255  -117.70035759 ...  201.36130624\n",
      "    -85.03347718   -5.84024782]\n",
      "  [  97.35577992 -107.27418495 -109.94174349 ...  204.3153208\n",
      "    -84.62311711    4.76159423]]\n",
      "\n",
      " [[  79.28518687 -123.424068   -129.18534458 ...  187.2240426\n",
      "   -103.08352417   -7.59135752]\n",
      "  [  61.45114248 -138.38108532 -140.10900498 ...  165.65451104\n",
      "   -111.09146008  -19.78220542]\n",
      "  [  67.73376589 -125.85045393 -120.4682196  ...  169.53813711\n",
      "    -93.33430745  -10.27533377]\n",
      "  ...\n",
      "  [  61.54434631 -121.91874786 -136.17469354 ...  116.82714178\n",
      "    -89.2425626   -31.31605548]\n",
      "  [  53.11055357 -130.49153297 -140.49395168 ...  104.02866049\n",
      "    -90.87271382  -31.06504691]\n",
      "  [  49.85641664 -141.77167221 -143.86450418 ...   96.72154163\n",
      "   -100.30367679  -32.2573586 ]]\n",
      "\n",
      " [[  54.47568486 -136.84993813 -141.0339126  ...  100.38280693\n",
      "    -99.75148894  -29.75136033]\n",
      "  [  56.55427092 -127.84618642 -140.79877158 ...  100.63404693\n",
      "    -91.2420778   -27.60941758]\n",
      "  [  58.82153783 -127.15468028 -142.54733439 ...  101.92157186\n",
      "    -86.36434756  -24.80771223]\n",
      "  ...\n",
      "  [  41.32493147   -4.83358567  -40.6384712  ...   61.15818537\n",
      "     -4.02248804  -10.1192359 ]\n",
      "  [  42.28601243   -3.49059359  -40.26710338 ...   62.92331335\n",
      "      3.96839139   -4.49936788]\n",
      "  [  44.19839347    0.86620259  -33.29341204 ...   63.76898888\n",
      "      5.89064551    2.58262546]]]\n",
      "\n",
      "--- labels ---\n",
      "Type: <class 'numpy.ndarray'>\n",
      "Shape: (1, 288)\n",
      "First 5 rows:\n",
      " [[0 0 0 0 0 0 0 0 0 0 0 0 0 0 0 0 0 0 0 0 0 0 0 0 0 0 0 0 0 0 0 0 0 0 0 0\n",
      "  1 1 1 1 1 1 1 1 1 1 1 1 1 1 1 1 1 1 1 1 1 1 1 1 1 1 1 1 1 1 1 1 1 1 1 1\n",
      "  0 0 0 0 0 0 0 0 0 0 0 0 0 0 0 0 0 0 0 0 0 0 0 0 0 0 0 0 0 0 0 0 0 0 0 0\n",
      "  1 1 1 1 1 1 1 1 1 1 1 1 1 1 1 1 1 1 1 1 1 1 1 1 1 1 1 1 1 1 1 1 1 1 1 1\n",
      "  0 0 0 0 0 0 0 0 0 0 0 0 0 0 0 0 0 0 0 0 0 0 0 0 0 0 0 0 0 0 0 0 0 0 0 0\n",
      "  1 1 1 1 1 1 1 1 1 1 1 1 1 1 1 1 1 1 1 1 1 1 1 1 1 1 1 1 1 1 1 1 1 1 1 1\n",
      "  0 0 0 0 0 0 0 0 0 0 0 0 0 0 0 0 0 0 0 0 0 0 0 0 0 0 0 0 0 0 0 0 0 0 0 0\n",
      "  1 1 1 1 1 1 1 1 1 1 1 1 1 1 1 1 1 1 1 1 1 1 1 1 1 1 1 1 1 1 1 1 1 1 1 1]]\n"
     ]
    }
   ],
   "source": [
    "user_vars = {k: v for k, v in data.items() if not k.startswith('__')}\n",
    "\n",
    "for key, value in user_vars.items():\n",
    "    print(f\"\\n--- {key} ---\")\n",
    "    print(f\"Type: {type(value)}\")\n",
    "    print(\"Shape:\", getattr(value, \"shape\", \"N/A\"))\n",
    "\n",
    "    # Print scalar values or array samples\n",
    "    if isinstance(value, np.ndarray):\n",
    "        if value.ndim == 0:\n",
    "            print(\"Scalar value:\", value.item())\n",
    "        elif value.ndim == 1:\n",
    "            print(\"First 5 elements:\", value[::])\n",
    "        elif value.ndim == 2:\n",
    "            print(\"First 5 rows:\\n\", value[::])\n",
    "        elif value.ndim == 3:\n",
    "            print(\"First 5 slices along axis 0:\\n\", value[:5])"
   ]
  },
  {
   "cell_type": "markdown",
   "id": "6d0901fd",
   "metadata": {},
   "source": [
    "# Load Subjects"
   ]
  },
  {
   "cell_type": "code",
   "execution_count": 6,
   "id": "d4cdc433-2a29-42ff-a238-ede6e8a68d07",
   "metadata": {},
   "outputs": [],
   "source": [
    "Train = []\n",
    "Test = []\n",
    "for i in range(1,6):\n",
    "    Train.append(loadmat(f'Data/train_data_{i}.mat'))\n",
    "    Test.append(loadmat(f'Data/test_data_{i}.mat'))"
   ]
  },
  {
   "cell_type": "code",
   "execution_count": 7,
   "id": "89d5f162-b45a-48e0-bdf6-c79955a16cff",
   "metadata": {},
   "outputs": [
    {
     "data": {
      "text/plain": [
       "5"
      ]
     },
     "execution_count": 7,
     "metadata": {},
     "output_type": "execute_result"
    }
   ],
   "source": [
    "len(Test)"
   ]
  },
  {
   "cell_type": "markdown",
   "id": "453e13aa",
   "metadata": {},
   "source": [
    "# 1. Common Average Reference filter"
   ]
  },
  {
   "cell_type": "markdown",
   "id": "82f936f3",
   "metadata": {},
   "source": [
    "Apply Common Average Reference (CAR) filter to the (EEG) data <br>\n",
    "Input shape: (n_trials, n_samples, n_channels) <br> output shape: (n_trials, n_samples, n_channels)"
   ]
  },
  {
   "cell_type": "code",
   "execution_count": 8,
   "id": "bc34636d",
   "metadata": {},
   "outputs": [],
   "source": [
    "def apply_car_filter(data):\n",
    "    # Compute mean across channels for each trial and time sample\n",
    "    car_data = data - data.mean(axis=2, keepdims=True)\n",
    "    return car_data"
   ]
  },
  {
   "cell_type": "markdown",
   "id": "78a02a6a",
   "metadata": {},
   "source": [
    "## CAR Filter To Subjects"
   ]
  },
  {
   "cell_type": "code",
   "execution_count": 9,
   "id": "6bb2e967-c07c-4317-9e46-2847e6e9d472",
   "metadata": {},
   "outputs": [],
   "source": [
    "Train_filtered = []\n",
    "Test_filtered = []\n",
    "for i in range(0,5):\n",
    "    Temp_train = Train[i]\n",
    "    Temp_test = Test[i]\n",
    "    Temp_test['data'] = apply_car_filter(Test[i]['data'])\n",
    "    Temp_train['data'] = apply_car_filter(Train[i]['data'])\n",
    "    Train_filtered.append(Temp_train)\n",
    "    Test_filtered.append(Temp_test)"
   ]
  },
  {
   "cell_type": "code",
   "execution_count": 10,
   "id": "b0773768-aa52-431c-a4e8-9ecd78ce3110",
   "metadata": {},
   "outputs": [
    {
     "data": {
      "text/plain": [
       "array([[0, 0, 0, 0, 0, 0, 0, 0, 0, 0, 0, 0, 0, 0, 0, 0, 0, 0, 0, 0, 0, 0,\n",
       "        0, 0, 0, 0, 0, 0, 0, 0, 0, 0, 0, 0, 0, 0, 1, 1, 1, 1, 1, 1, 1, 1,\n",
       "        1, 1, 1, 1, 1, 1, 1, 1, 1, 1, 1, 1, 1, 1, 1, 1, 1, 1, 1, 1, 1, 1,\n",
       "        1, 1, 1, 1, 1, 1, 0, 0, 0, 0, 0, 0, 0, 0, 0, 0, 0, 0, 0, 0, 0, 0,\n",
       "        0, 0, 0, 0, 0, 0, 0, 0, 0, 0, 0, 0, 0, 0, 0, 0, 0, 0, 0, 0, 1, 1,\n",
       "        1, 1, 1, 1, 1, 1, 1, 1, 1, 1, 1, 1, 1, 1, 1, 1, 1, 1, 1, 1, 1, 1,\n",
       "        1, 1, 1, 1, 1, 1, 1, 1, 1, 1, 1, 1, 0, 0, 0, 0, 0, 0, 0, 0, 0, 0,\n",
       "        0, 0, 0, 0, 0, 0, 0, 0, 0, 0, 0, 0, 0, 0, 0, 0, 0, 0, 0, 0, 0, 0,\n",
       "        0, 0, 0, 0, 1, 1, 1, 1, 1, 1, 1, 1, 1, 1, 1, 1, 1, 1, 1, 1, 1, 1,\n",
       "        1, 1, 1, 1, 1, 1, 1, 1, 1, 1, 1, 1, 1, 1, 1, 1, 1, 1, 0, 0, 0, 0,\n",
       "        0, 0, 0, 0, 0, 0, 0, 0, 0, 0, 0, 0, 0, 0, 0, 0, 0, 0, 0, 0, 0, 0,\n",
       "        0, 0, 0, 0, 0, 0, 0, 0, 0, 0, 1, 1, 1, 1, 1, 1, 1, 1, 1, 1, 1, 1,\n",
       "        1, 1, 1, 1, 1, 1, 1, 1, 1, 1, 1, 1, 1, 1, 1, 1, 1, 1, 1, 1, 1, 1,\n",
       "        1, 1]])"
      ]
     },
     "execution_count": 10,
     "metadata": {},
     "output_type": "execute_result"
    }
   ],
   "source": [
    "Train_filtered[0]['labels']"
   ]
  },
  {
   "cell_type": "markdown",
   "id": "fd481a78",
   "metadata": {},
   "source": [
    "# 2. For each electrode"
   ]
  },
  {
   "cell_type": "markdown",
   "id": "638ec490",
   "metadata": {},
   "source": [
    "## 2.1. For each trial of each class of attention"
   ]
  },
  {
   "cell_type": "code",
   "execution_count": 11,
   "id": "7067ba94",
   "metadata": {},
   "outputs": [],
   "source": [
    "BANDS = {\n",
    "    'delta': (0.5, 4),\n",
    "    'theta': (4, 8),\n",
    "    'alpha': (8, 13),\n",
    "    'beta':  (13, 30),\n",
    "    'gamma': (30, 45)\n",
    "}"
   ]
  },
  {
   "cell_type": "markdown",
   "id": "f1ceed8f",
   "metadata": {},
   "source": [
    "### 2.1.1 Compute the Fourier Transform of the trial signal"
   ]
  },
  {
   "cell_type": "code",
   "execution_count": 12,
   "id": "2432e6d0",
   "metadata": {},
   "outputs": [],
   "source": [
    "def compute_fft(signal, fs):\n",
    "    fft_vals = fft(signal)\n",
    "    freqs = fftfreq(len(signal), d=1/fs)\n",
    "    power = np.abs(fft_vals) ** 2\n",
    "    return freqs, power"
   ]
  },
  {
   "cell_type": "markdown",
   "id": "14f50146",
   "metadata": {},
   "source": [
    "### 2.1.2 Compute the power in each of the delta, theta, alpha, beta, and gamma bands as the mean of the power of the frequencies in each band"
   ]
  },
  {
   "cell_type": "code",
   "execution_count": 13,
   "id": "72275ee5",
   "metadata": {},
   "outputs": [],
   "source": [
    "def compute_band_powers(freqs, power):\n",
    "    band_powers = []\n",
    "    for band_range in BANDS.values():\n",
    "        low, high = band_range\n",
    "        mask = (freqs >= low) & (freqs <= high) & (freqs >= 0)\n",
    "        band_power = power[mask].mean()\n",
    "        band_powers.append(band_power)\n",
    "    return band_powers"
   ]
  },
  {
   "cell_type": "markdown",
   "id": "f0c82d91",
   "metadata": {},
   "source": [
    "## 2.2 Form a feature vector as required in each deliverable in the project description"
   ]
  },
  {
   "cell_type": "code",
   "execution_count": 40,
   "id": "a8dfbeb5",
   "metadata": {},
   "outputs": [],
   "source": [
    "def extract_features_per_class(data_class, fs):\n",
    "    n_trials, _, n_channels = data_class.shape\n",
    "    all_features = []\n",
    "\n",
    "    for ch in range(n_channels):  # For each electrode\n",
    "        ch_features = []\n",
    "        for trial in range(n_trials):  # For each trial\n",
    "            signal = data_class[trial, :, ch]\n",
    "            freqs, power = compute_fft(signal, fs)                \n",
    "            band_powers = compute_band_powers(freqs, power)        \n",
    "            ch_features.append(band_powers)  \n",
    "        all_ch_features = np.array(ch_features)  \n",
    "        all_features.append(ch_features)\n",
    "\n",
    "    return np.hstack(all_features)"
   ]
  },
  {
   "cell_type": "code",
   "execution_count": 44,
   "id": "1e1a4121-6fee-4df9-ab90-5b19be125dc4",
   "metadata": {},
   "outputs": [
    {
     "data": {
      "text/plain": [
       "27985.168239487837"
      ]
     },
     "execution_count": 44,
     "metadata": {},
     "output_type": "execute_result"
    }
   ],
   "source": [
    "extract_features_per_class(Train_filtered[0]['data'], Train_filtered[0]['fs'][0][0])[0][4]"
   ]
  },
  {
   "cell_type": "code",
   "execution_count": null,
   "id": "6a107905-6306-4df5-8bfe-040aaa33205e",
   "metadata": {},
   "outputs": [],
   "source": []
  },
  {
   "cell_type": "markdown",
   "id": "1513182c",
   "metadata": {},
   "source": [
    "## 2.3 Apply K-Nearest Neighbor (KNN) classifier examining K from 1 to 10 using the training and test datasets"
   ]
  },
  {
   "cell_type": "code",
   "execution_count": 91,
   "id": "9d1e35a0-62b8-4cd3-88ec-3c0e971ad9a8",
   "metadata": {},
   "outputs": [],
   "source": [
    "def KNN(data_train,labels_train,data_test,k):\n",
    "    knn = KNeighborsClassifier(n_neighbors=k)\n",
    "    knn.fit(data_train, labels_train)\n",
    "    return knn.predict(data_test)"
   ]
  },
  {
   "cell_type": "code",
   "execution_count": 110,
   "id": "c294d9fb-122f-44bf-98f5-d8bb08a78671",
   "metadata": {},
   "outputs": [],
   "source": [
    "def classify_samp(data_train,data_test,k,labels_train,labels_test):\n",
    "    n_trial, n_channel_band = data_train.shape\n",
    "    ch = 0\n",
    "    band = 0\n",
    "    accuracy = 0\n",
    "    for i in range(0,n_channel_band):\n",
    "        curr_chan_band_train = data_train[:,i].reshape(-1, 1)\n",
    "        curr_chan_band_test = data_test[:,i].reshape(-1, 1)\n",
    "        labels_pred = KNN(curr_chan_band_train,labels_train,curr_chan_band_test,k)\n",
    "        if accuracy_score(labels_test,labels_pred) > accuracy:\n",
    "            accuracy = accuracy_score(labels_test,labels_pred)\n",
    "            ch = math.ceil((i + 1) / 5)\n",
    "            band = list(BANDS.keys())[(i % 5)]\n",
    "    return accuracy , ch, band"
   ]
  },
  {
   "cell_type": "code",
   "execution_count": 111,
   "id": "863ffaf0",
   "metadata": {},
   "outputs": [],
   "source": [
    "# 288 x 35 or 72 x 35\n",
    "# combine all bands for each channel - mean method\n",
    "def combfreq(data):\n",
    "    res = []\n",
    "    for i in range (len(data)):\n",
    "        arr = []\n",
    "        for n in range(0,35,5):\n",
    "            arr.append(mean(data[i][n:n+5]))\n",
    "        res.append(arr)\n",
    "    return np.array(res)"
   ]
  },
  {
   "cell_type": "code",
   "execution_count": 112,
   "id": "68e60d22-1441-4895-a02e-f60cb1fb8158",
   "metadata": {},
   "outputs": [],
   "source": [
    "def Calculate_acc(channel, band, chb):\n",
    "    accuracys = []\n",
    "    channels = []\n",
    "    bands = []\n",
    "    Ks = []\n",
    "    K_error = []\n",
    "    for sub in range(0,5):\n",
    "        # 288 x 35 vector\n",
    "        dataTrain = extract_features_per_class(Train_filtered[sub]['data'], Train_filtered[sub]['fs'][0][0])\n",
    "        dataTest = extract_features_per_class(Test_filtered[sub]['data'], Test_filtered[sub]['fs'][0][0])\n",
    "        labelsTrain = Train_filtered[sub]['labels'][0]\n",
    "        labelsTest = Test_filtered[sub]['labels'][0]\n",
    "        if channel: \n",
    "            dataTrain = combfreq(dataTrain)\n",
    "            # dataTest = combfreq(dataTest)\n",
    "        # if band:\n",
    "        #     dataTrain = combbands(dataTrain)\n",
    "        #     dataTest = combbands(dataTest)\n",
    "        # if chb:\n",
    "        #     dataTrain = combchbanc(dataTrain)\n",
    "        #     dataTest = combchbanc(dataTest)\n",
    "        for k in range(1,11):\n",
    "            if chb:\n",
    "                 KNN(dataTrain,labelsTrain,dataTest,k)\n",
    "            else:\n",
    "                acc , ch, band = classify_samp(dataTrain,dataTest,k,labelsTrain,labelsTest)\n",
    "                if k == 1:\n",
    "                    accuracys.append(acc)\n",
    "                    channels.append(ch)\n",
    "                    bands.append(band)\n",
    "                    Ks.append(k)\n",
    "                    K_error.append(1 - acc)\n",
    "                elif accuracys[sub] < acc:\n",
    "                    accuracys[sub] = acc\n",
    "                    channels[sub] = ch\n",
    "                    bands[sub] = band\n",
    "                    Ks[sub] = k\n",
    "                    K_error[sub] = 1 - acc\n",
    "\n",
    "    return accuracys,channels,bands,Ks,K_error"
   ]
  },
  {
   "cell_type": "code",
   "execution_count": 113,
   "id": "d5b104d8-0da6-4569-bcde-5742c2ef1ed7",
   "metadata": {},
   "outputs": [
    {
     "data": {
      "text/plain": [
       "(288, 7)"
      ]
     },
     "execution_count": 113,
     "metadata": {},
     "output_type": "execute_result"
    }
   ],
   "source": [
    "dataTrain = extract_features_per_class(Train_filtered[0]['data'], Train_filtered[0]['fs'][0][0])\n",
    "combfreq(dataTrain).shape\n"
   ]
  },
  {
   "cell_type": "code",
   "execution_count": 114,
   "id": "cbf180fa-766d-41b6-9106-3ff9b0f836bf",
   "metadata": {},
   "outputs": [
    {
     "name": "stdout",
     "output_type": "stream",
     "text": [
      "Accuracys:  [0.6388888888888888, 0.6111111111111112, 0.7083333333333334, 0.7230769230769231, 0.8194444444444444]\n",
      "Channels:  [1, 2, 1, 1, 2]\n",
      "Bands:  ['alpha', 'delta', 'delta', 'alpha', 'theta']\n",
      "Ks:  [9, 2, 9, 3, 2]\n",
      "K_error:  [0.36111111111111116, 0.38888888888888884, 0.29166666666666663, 0.27692307692307694, 0.18055555555555558]\n"
     ]
    }
   ],
   "source": [
    "accuracys, channels, bands, Ks, K_error = Calculate_acc(channel=True, band=False, chb=False)\n",
    "print(\"Accuracys: \", accuracys)\n",
    "print(\"Channels: \", channels)\n",
    "print(\"Bands: \", bands)\n",
    "print(\"Ks: \", Ks)\n",
    "print(\"K_error: \", K_error)"
   ]
  },
  {
   "cell_type": "code",
   "execution_count": null,
   "id": "b17c2d87",
   "metadata": {},
   "outputs": [],
   "source": [
    "# Calculate_acc(True,False,False)"
   ]
  },
  {
   "cell_type": "code",
   "execution_count": null,
   "id": "a9bbaccd-571f-4e49-8f8e-f545c88cb612",
   "metadata": {},
   "outputs": [],
   "source": []
  }
 ],
 "metadata": {
  "kernelspec": {
   "display_name": "Python 3 (ipykernel)",
   "language": "python",
   "name": "python3"
  },
  "language_info": {
   "codemirror_mode": {
    "name": "ipython",
    "version": 3
   },
   "file_extension": ".py",
   "mimetype": "text/x-python",
   "name": "python",
   "nbconvert_exporter": "python",
   "pygments_lexer": "ipython3",
   "version": "3.12.7"
  }
 },
 "nbformat": 4,
 "nbformat_minor": 5
}
